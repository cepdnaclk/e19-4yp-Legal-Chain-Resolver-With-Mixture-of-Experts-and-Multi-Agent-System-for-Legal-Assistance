{
 "cells": [
  {
   "cell_type": "code",
   "execution_count": 1,
   "id": "b98ba528",
   "metadata": {},
   "outputs": [],
   "source": [
    "import sys\n",
    "import os\n",
    "\n",
    "# Get the absolute path to the notebook's directory\n",
    "notebook_dir = os.path.dirname(os.path.abspath(\"__file__\"))\n",
    "project_root = os.path.abspath(os.path.join(notebook_dir, \"..\"))\n",
    "if project_root not in sys.path:\n",
    "    sys.path.insert(0, project_root)\n",
    "\n",
    "from src.utils import build_faiss_indices, create_similarity_pairs"
   ]
  },
  {
   "cell_type": "code",
   "execution_count": 2,
   "id": "df46b7cd",
   "metadata": {},
   "outputs": [
    {
     "name": "stdout",
     "output_type": "stream",
     "text": [
      "Building FAISS indices for all subdomains...\n",
      "Building FAISS indices...\n",
      "FAISS indices built.\n",
      "FAISS indices built successfully.\n"
     ]
    }
   ],
   "source": [
    "print(\"Building FAISS indices for all subdomains...\")\n",
    "build_faiss_indices()\n",
    "print(\"FAISS indices built successfully.\")"
   ]
  },
  {
   "cell_type": "code",
   "execution_count": 3,
   "id": "3ca9120e",
   "metadata": {},
   "outputs": [
    {
     "name": "stdout",
     "output_type": "stream",
     "text": [
      "Creating similarity pairs for all subdomains...\n",
      "Creating similarity pairs for expert training...\n",
      "Similarity pairs created.\n",
      "Similarity pairs created successfully.\n"
     ]
    }
   ],
   "source": [
    "print(\"Creating similarity pairs for all subdomains...\")\n",
    "create_similarity_pairs(k=3, num_neg=3)\n",
    "print(\"Similarity pairs created successfully.\")"
   ]
  }
 ],
 "metadata": {
  "kernelspec": {
   "display_name": ".venv",
   "language": "python",
   "name": "python3"
  },
  "language_info": {
   "codemirror_mode": {
    "name": "ipython",
    "version": 3
   },
   "file_extension": ".py",
   "mimetype": "text/x-python",
   "name": "python",
   "nbconvert_exporter": "python",
   "pygments_lexer": "ipython3",
   "version": "3.13.5"
  }
 },
 "nbformat": 4,
 "nbformat_minor": 5
}
