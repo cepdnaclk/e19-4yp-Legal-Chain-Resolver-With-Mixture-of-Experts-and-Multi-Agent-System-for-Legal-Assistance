{
 "cells": [
  {
   "cell_type": "code",
   "execution_count": 1,
   "id": "6db5e4ef",
   "metadata": {},
   "outputs": [
    {
     "name": "stdout",
     "output_type": "stream",
     "text": [
      "Generating embeddings...\n",
      "Embeddings generated.\n"
     ]
    }
   ],
   "source": [
    "from sentence_transformers import SentenceTransformer\n",
    "import numpy as np\n",
    "import os\n",
    "\n",
    "model = SentenceTransformer('all-MiniLM-L6-v2')\n",
    "base_dir = \"../data/subdomains/\"\n",
    "subdomains = os.listdir(base_dir)\n",
    "\n",
    "\"\"\"Generates embeddings for all cleaned text files.\"\"\"\n",
    "print(\"Generating embeddings...\")\n",
    "model = SentenceTransformer('all-MiniLM-L6-v2')\n",
    "subdomains = [d for d in os.listdir(base_dir) if os.path.isdir(os.path.join(base_dir, d))]\n",
    "\n",
    "for subdomain in subdomains:\n",
    "    folder = os.path.join(base_dir, subdomain)\n",
    "    for fname in os.listdir(folder):\n",
    "        if fname.endswith(\".cleaned.txt\"):\n",
    "            txt_path = os.path.join(folder, fname)\n",
    "            emb_path = txt_path.replace(\".cleaned.txt\", \".embedding.npy\")\n",
    "            \n",
    "            if os.path.exists(emb_path):\n",
    "                continue # Skip if already exists\n",
    "\n",
    "            with open(txt_path, \"r\", encoding=\"utf-8\") as f:\n",
    "                text = f.read()\n",
    "            \n",
    "            embedding = model.encode(text)\n",
    "            np.save(emb_path, embedding)\n",
    "print(\"Embeddings generated.\")"
   ]
  }
 ],
 "metadata": {
  "kernelspec": {
   "display_name": ".venv",
   "language": "python",
   "name": "python3"
  },
  "language_info": {
   "codemirror_mode": {
    "name": "ipython",
    "version": 3
   },
   "file_extension": ".py",
   "mimetype": "text/x-python",
   "name": "python",
   "nbconvert_exporter": "python",
   "pygments_lexer": "ipython3",
   "version": "3.13.5"
  }
 },
 "nbformat": 4,
 "nbformat_minor": 5
}
