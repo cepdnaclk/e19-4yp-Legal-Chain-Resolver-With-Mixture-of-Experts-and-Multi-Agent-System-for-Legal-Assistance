{
 "cells": [
  {
   "cell_type": "code",
   "execution_count": 1,
   "id": "5a9012d3",
   "metadata": {},
   "outputs": [],
   "source": [
    "import os\n",
    "import pdfplumber\n",
    "\n",
    "raw_dir = \"../data/raw_pdfs/\"\n",
    "out_dir = \"../data/extracted_texts/\"\n",
    "os.makedirs(out_dir, exist_ok=True)\n",
    "\n",
    "for pdf_folder in os.listdir(raw_dir):\n",
    "    folder_path = os.path.join(raw_dir, pdf_folder)\n",
    "    if os.path.isdir(folder_path):\n",
    "        out_subdir = os.path.join(out_dir, pdf_folder)\n",
    "        os.makedirs(out_subdir, exist_ok=True)\n",
    "        for section_pdf in os.listdir(folder_path):\n",
    "            if section_pdf.endswith('.pdf'):\n",
    "                pdf_path = os.path.join(folder_path, section_pdf)\n",
    "                text = \"\"\n",
    "                with pdfplumber.open(pdf_path) as pdf:\n",
    "                    for page in pdf.pages:\n",
    "                        page_text = page.extract_text()\n",
    "                        if page_text:\n",
    "                            text += page_text + \"\\n\"\n",
    "                txt_name = section_pdf.replace(\".pdf\", \".txt\")\n",
    "                with open(os.path.join(out_subdir, txt_name), \"w\", encoding=\"utf-8\") as f:\n",
    "                    f.write(text)"
   ]
  }
 ],
 "metadata": {
  "kernelspec": {
   "display_name": ".venv",
   "language": "python",
   "name": "python3"
  },
  "language_info": {
   "codemirror_mode": {
    "name": "ipython",
    "version": 3
   },
   "file_extension": ".py",
   "mimetype": "text/x-python",
   "name": "python",
   "nbconvert_exporter": "python",
   "pygments_lexer": "ipython3",
   "version": "3.13.5"
  }
 },
 "nbformat": 4,
 "nbformat_minor": 5
}
