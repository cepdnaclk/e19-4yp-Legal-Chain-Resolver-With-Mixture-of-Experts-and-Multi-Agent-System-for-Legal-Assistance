{
 "cells": [
  {
   "cell_type": "code",
   "execution_count": 4,
   "id": "bfcbf70a",
   "metadata": {},
   "outputs": [],
   "source": [
    "import os\n",
    "import re\n",
    "\n",
    "in_dir = \"../data/extracted_texts/\"\n",
    "for act_folder in os.listdir(in_dir):\n",
    "    act_path = os.path.join(in_dir, act_folder)\n",
    "    for txt_file in os.listdir(act_path):\n",
    "        if txt_file.endswith('.txt'):\n",
    "            with open(os.path.join(act_path, txt_file), \"r\", encoding=\"utf-8\") as f:\n",
    "                text = f.read()\n",
    "            cleaned = re.sub(r'\\n+', '\\n', text)\n",
    "            cleaned = re.sub(r'\\s+', ' ', cleaned)\n",
    "            cleaned = cleaned.strip().lower()\n",
    "            cleaned_name = txt_file.replace('.txt', '.cleaned.txt')\n",
    "            with open(os.path.join(act_path, cleaned_name), \"w\", encoding=\"utf-8\") as f:\n",
    "                f.write(cleaned)\n"
   ]
  },
  {
   "cell_type": "code",
   "execution_count": 1,
   "id": "a35f0d58",
   "metadata": {},
   "outputs": [
    {
     "name": "stdout",
     "output_type": "stream",
     "text": [
      "Files copied successfully.\n"
     ]
    }
   ],
   "source": [
    "import os\n",
    "import shutil\n",
    "\n",
    "# Mapping from original PDF folder names to subdomain folder names\n",
    "mapping = {\n",
    "    \"01. Companies Act No. 7 of 2007\": \"company_law\",\n",
    "    \"02. Inland Revenue Act_No_24_2017_E\": \"tax_law\",\n",
    "    \"03. Inland Revenue (Amendment) Act No. 2 of 2025\": \"tax_law\",\n",
    "    \"04. Banking Act 30_1988\": \"banking_law\",\n",
    "    \"05. Banking_Amendment_Act_No_24_of_2024_e\": \"banking_law\",\n",
    "    \"06. Banking (Special Provisions) Act, No. 17 of 2023\": \"banking_law\",\n",
    "    \"07. Securities and Exchange Commission of Sri Lanka\": \"securities_law\",\n",
    "    \"08. INSOLVENTS [Cap.103 - Lanka Law\": \"insolvency_law\",\n",
    "    \"09. Sale of goods part 1 5-1-2020 notes\": \"contract_law\",\n",
    "    \"10. Bills of Exchanger Ordinance\": \"negotiable_instruments_law\",\n",
    "    \"11. BILLS OF EXCHANGE (AMENDMENT)\": \"negotiable_instruments_law\",\n",
    "    \"12. Consumer Affairs Authority Act No 9 of 2003\": \"consumer_law\",\n",
    "    \"13. Intellectual_Property_Act_No_36_of_2003\": \"ip_law\",\n",
    "    \"14. ARBITRATION-ACT No 11 of 1995\": \"arbitration_law\",\n",
    "    \"16. Trust Ordinance\": \"trust_law\",\n",
    "    \"17. ElectronicTransactionActNo19of2006\": \"electronic_transactions_law\",\n",
    "    \"18. Foreign Exchange ACT NO 12 of 2017\": \"foreign_exchange_law\"\n",
    "}\n",
    "\n",
    "# Define source and destination base directories\n",
    "src_dir = \"../data/extracted_texts/\"\n",
    "dst_dir = \"../data/subdomains/\"\n",
    "\n",
    "# Create destination subdomain folders if they don't exist\n",
    "for subdomain in set(mapping.values()):\n",
    "    os.makedirs(os.path.join(dst_dir, subdomain), exist_ok=True)\n",
    "\n",
    "# Copy cleaned text files from extracted_texts to subdomain folders\n",
    "for act_folder, subdomain in mapping.items():\n",
    "    src_path = os.path.join(src_dir, act_folder)\n",
    "    dst_path = os.path.join(dst_dir, subdomain)\n",
    "    if os.path.exists(src_path):\n",
    "        for fname in os.listdir(src_path):\n",
    "            if fname.endswith('.cleaned.txt'):\n",
    "                # Prefix filename with act folder name to avoid conflicts\n",
    "                new_fname = f\"{act_folder}__{fname}\"\n",
    "                shutil.copy(os.path.join(src_path, fname), os.path.join(dst_path, new_fname))\n",
    "\n",
    "print(\"Files copied successfully.\")\n"
   ]
  }
 ],
 "metadata": {
  "kernelspec": {
   "display_name": ".venv",
   "language": "python",
   "name": "python3"
  },
  "language_info": {
   "codemirror_mode": {
    "name": "ipython",
    "version": 3
   },
   "file_extension": ".py",
   "mimetype": "text/x-python",
   "name": "python",
   "nbconvert_exporter": "python",
   "pygments_lexer": "ipython3",
   "version": "3.13.5"
  }
 },
 "nbformat": 4,
 "nbformat_minor": 5
}
