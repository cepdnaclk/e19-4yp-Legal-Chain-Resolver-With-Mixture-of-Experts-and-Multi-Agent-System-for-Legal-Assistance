{
 "cells": [
  {
   "cell_type": "code",
   "execution_count": null,
   "id": "e4f550ee",
   "metadata": {},
   "outputs": [],
   "source": [
    "%pip install numpy\n",
    "%pip install -r requirements.txt"
   ]
  },
  {
   "cell_type": "code",
   "execution_count": 1,
   "id": "baff67d1",
   "metadata": {},
   "outputs": [
    {
     "data": {
      "text/plain": [
       "[Document(metadata={'source': 'example.txt'}, page_content='Commercial law in Sri Lanka governs the legal principles that regulate business and commercial transactions within the country. Rooted in Roman-Dutch law and influenced by English common law, Sri Lankaâ€™s commercial legal system covers a wide range of areas including contracts, trade, banking, insurance, partnerships, and company law. The Sale of Goods Ordinance, the Companies Act No. 7 of 2007, and the Partnership Ordinance are key legislative instruments that guide business practices. These laws provide the framework for fair and transparent transactions, ensuring that the rights and obligations of all parties involved in commercial dealings are legally protected.\\n\\nIn recent years, Sri Lanka has made efforts to modernize its commercial legal landscape to align with international standards and encourage foreign investment. The establishment of specialized commercial courts, digital company registration services, and alternative dispute resolution mechanisms like arbitration have improved the efficiency of resolving business disputes. However, challenges such as delays in litigation and lack of awareness among small business owners still persist. Overall, commercial law in Sri Lanka plays a vital role in supporting economic development by creating a stable legal environment for commerce and entrepreneurship.')]"
      ]
     },
     "execution_count": 1,
     "metadata": {},
     "output_type": "execute_result"
    }
   ],
   "source": [
    "# Data Ingestion\n",
    "from langchain_community.document_loaders import TextLoader\n",
    "\n",
    "loader = TextLoader(\"example.txt\")\n",
    "documents = loader.load()\n",
    "documents"
   ]
  },
  {
   "cell_type": "code",
   "execution_count": 2,
   "id": "135dfe42",
   "metadata": {},
   "outputs": [
    {
     "data": {
      "text/plain": [
       "[Document(metadata={'producer': 'xdvipdfmx (20220710)', 'creator': 'LaTeX with hyperref', 'creationdate': '2025-05-10T05:59:41+00:00', 'source': 'detailed.pdf', 'total_pages': 2, 'page': 0, 'page_label': '1'}, page_content='Detailed Brief on Commercial Law: Contracts\\nMay 10, 2025\\nIn commercial law, contracts serve as the foundation for enforceable agreements\\nthat facilitate business transactions. A valid contract requires several essential\\nelements, as outlined in various legal frameworks, including South African com-\\nmon law and statutes like theConsumer Protection Act 68 of 2008. These elements\\ninclude an agreement between parties, evidenced by an offer and acceptance,\\nand an intention to create legally binding obligations. A mutual understand-\\ning, or “meeting of the minds,” ensures both parties comprehend the contract’s\\nterms. Additionally, parties must have contractual capacity—being of legal age\\nand sound mind—and the contract’s purpose must be lawful, with terms capa-\\nble of performance. For instance, a contract to sell illegal goods would be void.\\nThese principles align with global standards, such as those in theUNIDROIT Prin-\\nciples of International Commercial Contracts(2016), which emphasize consensus\\nand legality (UNIDROIT, 2016).\\nNot all contracts require written form; they can be oral or written, depending on\\nthe context. However, specific contracts, particularly under South African law,\\nmust be in writing and signed to be enforceable, as stipulated by theAlienation\\nof Land Act 68 of 1981for land sales and theNational Credit Act 34 of 2005for\\ncredit agreements. Other examples include long-term leases (ten years or more),\\ncontracts of suretyship, executory donations, and marriage contracts. This re-\\nquirement ensures clarity and prevents disputes, as highlighted in case law like\\nFourie v. Hansen(2000), which upheld the necessity of written agreements for\\nland transactions (SAFLII, 2000).\\nA breach of contract occurs when a party fails to fulfill their obligations, whether\\nthrough non-performance, partial performance, or repudiation (indicating an\\nintent not to perform). TheRestatement (Second) of Contracts(1981) in the U.S.\\nsimilarly defines breach as a failure to perform when performance is due, a prin-\\nciple echoed in South African law (American Law Institute, 1981). For example,\\ndelivering defective goods constitutes partial performance, while refusing to de-\\nliver goods signals repudiation. Such breaches disrupt the contractual balance\\nand trigger remedies.\\nRemedies for breach aim to restore the aggrieved party’s position. Specific per-\\nformance, a court-ordered fulfillment of obligations, is common when monetary\\ncompensation is inadequate, as seen inHaynes v. Kingwilliamstown Municipality\\n(1951). An interdict prevents further breaches, while damages compensate for\\nlosses, calculated based on the harm suffered. Cancellation with damages allows\\n1'),\n",
       " Document(metadata={'producer': 'xdvipdfmx (20220710)', 'creator': 'LaTeX with hyperref', 'creationdate': '2025-05-10T05:59:41+00:00', 'source': 'detailed.pdf', 'total_pages': 2, 'page': 1, 'page_label': '2'}, page_content='termination of the contract if the breach is material, as per theConsumer Protec-\\ntion Act(South African Government, 2008). These remedies ensure fairness and\\naccountability.\\nContracts may terminate through several avenues: fulfillment of obligations,\\nmutual agreement, material breach, death of a party (in personal service con-\\ntracts), or expiry of the contract period. TheUNIDROIT Principles(Article 7.3.1)\\nallow termination for fundamental non-performance, aligning with South African\\npractices where material breaches justify cancellation (UNIDROIT, 2016). For in-\\nstance, a lease agreement ends upon the specified term’s expiry unless renewed.\\nMutual obligations refer to the reciprocal duties each party undertakes, often\\ninterdependent. For example, in a sale, the seller delivers goods while the buyer\\npays the price. This reciprocity, rooted in the Roman-Dutch law principle of\\nsynallagma, ensures neither party benefits without performing, as discussed in\\nChristie’s The Law of Contract in South Africa(7th ed., 2016). These obligations\\nmaintain contractual equilibrium.\\nContracts can be modified post-signing, provided both parties agree and there\\nis consideration—something of value exchanged to support the change. TheNa-\\ntional Credit Actmandates written amendments for credit agreements to ensure\\ntransparency (South African Government, 2005). Mutual consent prevents uni-\\nlateral alterations, safeguarding both parties’ interests.\\nA condition precedent is an event that must occur before a contract becomes\\neffective, such as obtaining a loan approval before a property sale. Conversely,\\na condition subsequent terminates a contract if it occurs, like a lease ending if a\\nproperty is rezoned. These concepts, detailed inKerr’s The Principles of the Law\\nof Contract(6th ed., 2002), allow flexibility in contract design.\\nIf a party cannot fulfill their obligations, they may breach the contract, incurring\\nliability for damages or facing cancellation. TheVis majordoctrine, recognized\\nin South African law, excuses performance if unforeseen events (e.g., natural\\ndisasters) make it impossible, as seen inPeters v. Calamity(1980) (SAFLII, 1980).\\nOtherwise, the non-performing party bears the consequences.\\nUnilateral termination is permissible under specific circumstances, such as ma-\\nterial breach, impossibility of performance, or mutual agreement. For instance,\\na material breach, like failure to deliver goods, allows the aggrieved party to\\ncancel, as perUNIDROIT Principles(Article 7.3.1). Impossibility, such as destruc-\\ntion of the contract’s subject matter, also justifies termination, ensuring fairness\\nwhen performance is untenable.\\nThis brief encapsulates the core principles of contract law in commercial con-\\ntexts, drawing from South African statutes, case law, and international frame-\\nworks. By addressing the formation, execution, breach, and termination of con-\\ntracts, it underscores the legal mechanisms that ensure equitable and enforce-\\nable agreements in commercial transactions.\\n2')]"
      ]
     },
     "execution_count": 2,
     "metadata": {},
     "output_type": "execute_result"
    }
   ],
   "source": [
    "# PDF Ingestion\n",
    "from langchain_community.document_loaders import PyPDFLoader\n",
    "\n",
    "loader = PyPDFLoader(\"detailed.pdf\")\n",
    "pdf = loader.load()\n",
    "pdf"
   ]
  },
  {
   "cell_type": "code",
   "execution_count": 3,
   "id": "87ae0642",
   "metadata": {},
   "outputs": [],
   "source": [
    "import os\n",
    "from dotenv import load_dotenv\n",
    "load_dotenv()\n",
    "\n",
    "os.environ[\"OPENAI_API_KEY\"] = os.getenv(\"OPENAI_API_KEY\")"
   ]
  },
  {
   "cell_type": "code",
   "execution_count": 4,
   "id": "f7c13f31",
   "metadata": {},
   "outputs": [
    {
     "data": {
      "text/plain": [
       "[Document(metadata={'producer': 'xdvipdfmx (20220710)', 'creator': 'LaTeX with hyperref', 'creationdate': '2025-05-10T05:59:41+00:00', 'source': 'detailed.pdf', 'total_pages': 2, 'page': 0, 'page_label': '1'}, page_content='Detailed Brief on Commercial Law: Contracts\\nMay 10, 2025\\nIn commercial law, contracts serve as the foundation for enforceable agreements\\nthat facilitate business transactions. A valid contract requires several essential\\nelements, as outlined in various legal frameworks, including South African com-'),\n",
       " Document(metadata={'producer': 'xdvipdfmx (20220710)', 'creator': 'LaTeX with hyperref', 'creationdate': '2025-05-10T05:59:41+00:00', 'source': 'detailed.pdf', 'total_pages': 2, 'page': 0, 'page_label': '1'}, page_content='elements, as outlined in various legal frameworks, including South African com-\\nmon law and statutes like theConsumer Protection Act 68 of 2008. These elements\\ninclude an agreement between parties, evidenced by an offer and acceptance,'),\n",
       " Document(metadata={'producer': 'xdvipdfmx (20220710)', 'creator': 'LaTeX with hyperref', 'creationdate': '2025-05-10T05:59:41+00:00', 'source': 'detailed.pdf', 'total_pages': 2, 'page': 0, 'page_label': '1'}, page_content='include an agreement between parties, evidenced by an offer and acceptance,\\nand an intention to create legally binding obligations. A mutual understand-\\ning, or “meeting of the minds,” ensures both parties comprehend the contract’s'),\n",
       " Document(metadata={'producer': 'xdvipdfmx (20220710)', 'creator': 'LaTeX with hyperref', 'creationdate': '2025-05-10T05:59:41+00:00', 'source': 'detailed.pdf', 'total_pages': 2, 'page': 0, 'page_label': '1'}, page_content='ing, or “meeting of the minds,” ensures both parties comprehend the contract’s\\nterms. Additionally, parties must have contractual capacity—being of legal age\\nand sound mind—and the contract’s purpose must be lawful, with terms capa-'),\n",
       " Document(metadata={'producer': 'xdvipdfmx (20220710)', 'creator': 'LaTeX with hyperref', 'creationdate': '2025-05-10T05:59:41+00:00', 'source': 'detailed.pdf', 'total_pages': 2, 'page': 0, 'page_label': '1'}, page_content='and sound mind—and the contract’s purpose must be lawful, with terms capa-\\nble of performance. For instance, a contract to sell illegal goods would be void.\\nThese principles align with global standards, such as those in theUNIDROIT Prin-'),\n",
       " Document(metadata={'producer': 'xdvipdfmx (20220710)', 'creator': 'LaTeX with hyperref', 'creationdate': '2025-05-10T05:59:41+00:00', 'source': 'detailed.pdf', 'total_pages': 2, 'page': 0, 'page_label': '1'}, page_content='These principles align with global standards, such as those in theUNIDROIT Prin-\\nciples of International Commercial Contracts(2016), which emphasize consensus\\nand legality (UNIDROIT, 2016).\\nNot all contracts require written form; they can be oral or written, depending on'),\n",
       " Document(metadata={'producer': 'xdvipdfmx (20220710)', 'creator': 'LaTeX with hyperref', 'creationdate': '2025-05-10T05:59:41+00:00', 'source': 'detailed.pdf', 'total_pages': 2, 'page': 0, 'page_label': '1'}, page_content='Not all contracts require written form; they can be oral or written, depending on\\nthe context. However, specific contracts, particularly under South African law,\\nmust be in writing and signed to be enforceable, as stipulated by theAlienation'),\n",
       " Document(metadata={'producer': 'xdvipdfmx (20220710)', 'creator': 'LaTeX with hyperref', 'creationdate': '2025-05-10T05:59:41+00:00', 'source': 'detailed.pdf', 'total_pages': 2, 'page': 0, 'page_label': '1'}, page_content='must be in writing and signed to be enforceable, as stipulated by theAlienation\\nof Land Act 68 of 1981for land sales and theNational Credit Act 34 of 2005for\\ncredit agreements. Other examples include long-term leases (ten years or more),'),\n",
       " Document(metadata={'producer': 'xdvipdfmx (20220710)', 'creator': 'LaTeX with hyperref', 'creationdate': '2025-05-10T05:59:41+00:00', 'source': 'detailed.pdf', 'total_pages': 2, 'page': 0, 'page_label': '1'}, page_content='credit agreements. Other examples include long-term leases (ten years or more),\\ncontracts of suretyship, executory donations, and marriage contracts. This re-\\nquirement ensures clarity and prevents disputes, as highlighted in case law like'),\n",
       " Document(metadata={'producer': 'xdvipdfmx (20220710)', 'creator': 'LaTeX with hyperref', 'creationdate': '2025-05-10T05:59:41+00:00', 'source': 'detailed.pdf', 'total_pages': 2, 'page': 0, 'page_label': '1'}, page_content='quirement ensures clarity and prevents disputes, as highlighted in case law like\\nFourie v. Hansen(2000), which upheld the necessity of written agreements for\\nland transactions (SAFLII, 2000).\\nA breach of contract occurs when a party fails to fulfill their obligations, whether'),\n",
       " Document(metadata={'producer': 'xdvipdfmx (20220710)', 'creator': 'LaTeX with hyperref', 'creationdate': '2025-05-10T05:59:41+00:00', 'source': 'detailed.pdf', 'total_pages': 2, 'page': 0, 'page_label': '1'}, page_content='A breach of contract occurs when a party fails to fulfill their obligations, whether\\nthrough non-performance, partial performance, or repudiation (indicating an\\nintent not to perform). TheRestatement (Second) of Contracts(1981) in the U.S.'),\n",
       " Document(metadata={'producer': 'xdvipdfmx (20220710)', 'creator': 'LaTeX with hyperref', 'creationdate': '2025-05-10T05:59:41+00:00', 'source': 'detailed.pdf', 'total_pages': 2, 'page': 0, 'page_label': '1'}, page_content='intent not to perform). TheRestatement (Second) of Contracts(1981) in the U.S.\\nsimilarly defines breach as a failure to perform when performance is due, a prin-\\nciple echoed in South African law (American Law Institute, 1981). For example,'),\n",
       " Document(metadata={'producer': 'xdvipdfmx (20220710)', 'creator': 'LaTeX with hyperref', 'creationdate': '2025-05-10T05:59:41+00:00', 'source': 'detailed.pdf', 'total_pages': 2, 'page': 0, 'page_label': '1'}, page_content='ciple echoed in South African law (American Law Institute, 1981). For example,\\ndelivering defective goods constitutes partial performance, while refusing to de-\\nliver goods signals repudiation. Such breaches disrupt the contractual balance\\nand trigger remedies.'),\n",
       " Document(metadata={'producer': 'xdvipdfmx (20220710)', 'creator': 'LaTeX with hyperref', 'creationdate': '2025-05-10T05:59:41+00:00', 'source': 'detailed.pdf', 'total_pages': 2, 'page': 0, 'page_label': '1'}, page_content='and trigger remedies.\\nRemedies for breach aim to restore the aggrieved party’s position. Specific per-\\nformance, a court-ordered fulfillment of obligations, is common when monetary\\ncompensation is inadequate, as seen inHaynes v. Kingwilliamstown Municipality'),\n",
       " Document(metadata={'producer': 'xdvipdfmx (20220710)', 'creator': 'LaTeX with hyperref', 'creationdate': '2025-05-10T05:59:41+00:00', 'source': 'detailed.pdf', 'total_pages': 2, 'page': 0, 'page_label': '1'}, page_content='compensation is inadequate, as seen inHaynes v. Kingwilliamstown Municipality\\n(1951). An interdict prevents further breaches, while damages compensate for\\nlosses, calculated based on the harm suffered. Cancellation with damages allows\\n1'),\n",
       " Document(metadata={'producer': 'xdvipdfmx (20220710)', 'creator': 'LaTeX with hyperref', 'creationdate': '2025-05-10T05:59:41+00:00', 'source': 'detailed.pdf', 'total_pages': 2, 'page': 1, 'page_label': '2'}, page_content='termination of the contract if the breach is material, as per theConsumer Protec-\\ntion Act(South African Government, 2008). These remedies ensure fairness and\\naccountability.\\nContracts may terminate through several avenues: fulfillment of obligations,'),\n",
       " Document(metadata={'producer': 'xdvipdfmx (20220710)', 'creator': 'LaTeX with hyperref', 'creationdate': '2025-05-10T05:59:41+00:00', 'source': 'detailed.pdf', 'total_pages': 2, 'page': 1, 'page_label': '2'}, page_content='accountability.\\nContracts may terminate through several avenues: fulfillment of obligations,\\nmutual agreement, material breach, death of a party (in personal service con-\\ntracts), or expiry of the contract period. TheUNIDROIT Principles(Article 7.3.1)'),\n",
       " Document(metadata={'producer': 'xdvipdfmx (20220710)', 'creator': 'LaTeX with hyperref', 'creationdate': '2025-05-10T05:59:41+00:00', 'source': 'detailed.pdf', 'total_pages': 2, 'page': 1, 'page_label': '2'}, page_content='tracts), or expiry of the contract period. TheUNIDROIT Principles(Article 7.3.1)\\nallow termination for fundamental non-performance, aligning with South African\\npractices where material breaches justify cancellation (UNIDROIT, 2016). For in-'),\n",
       " Document(metadata={'producer': 'xdvipdfmx (20220710)', 'creator': 'LaTeX with hyperref', 'creationdate': '2025-05-10T05:59:41+00:00', 'source': 'detailed.pdf', 'total_pages': 2, 'page': 1, 'page_label': '2'}, page_content='practices where material breaches justify cancellation (UNIDROIT, 2016). For in-\\nstance, a lease agreement ends upon the specified term’s expiry unless renewed.\\nMutual obligations refer to the reciprocal duties each party undertakes, often'),\n",
       " Document(metadata={'producer': 'xdvipdfmx (20220710)', 'creator': 'LaTeX with hyperref', 'creationdate': '2025-05-10T05:59:41+00:00', 'source': 'detailed.pdf', 'total_pages': 2, 'page': 1, 'page_label': '2'}, page_content='Mutual obligations refer to the reciprocal duties each party undertakes, often\\ninterdependent. For example, in a sale, the seller delivers goods while the buyer\\npays the price. This reciprocity, rooted in the Roman-Dutch law principle of'),\n",
       " Document(metadata={'producer': 'xdvipdfmx (20220710)', 'creator': 'LaTeX with hyperref', 'creationdate': '2025-05-10T05:59:41+00:00', 'source': 'detailed.pdf', 'total_pages': 2, 'page': 1, 'page_label': '2'}, page_content='pays the price. This reciprocity, rooted in the Roman-Dutch law principle of\\nsynallagma, ensures neither party benefits without performing, as discussed in\\nChristie’s The Law of Contract in South Africa(7th ed., 2016). These obligations\\nmaintain contractual equilibrium.'),\n",
       " Document(metadata={'producer': 'xdvipdfmx (20220710)', 'creator': 'LaTeX with hyperref', 'creationdate': '2025-05-10T05:59:41+00:00', 'source': 'detailed.pdf', 'total_pages': 2, 'page': 1, 'page_label': '2'}, page_content='maintain contractual equilibrium.\\nContracts can be modified post-signing, provided both parties agree and there\\nis consideration—something of value exchanged to support the change. TheNa-\\ntional Credit Actmandates written amendments for credit agreements to ensure'),\n",
       " Document(metadata={'producer': 'xdvipdfmx (20220710)', 'creator': 'LaTeX with hyperref', 'creationdate': '2025-05-10T05:59:41+00:00', 'source': 'detailed.pdf', 'total_pages': 2, 'page': 1, 'page_label': '2'}, page_content='tional Credit Actmandates written amendments for credit agreements to ensure\\ntransparency (South African Government, 2005). Mutual consent prevents uni-\\nlateral alterations, safeguarding both parties’ interests.\\nA condition precedent is an event that must occur before a contract becomes'),\n",
       " Document(metadata={'producer': 'xdvipdfmx (20220710)', 'creator': 'LaTeX with hyperref', 'creationdate': '2025-05-10T05:59:41+00:00', 'source': 'detailed.pdf', 'total_pages': 2, 'page': 1, 'page_label': '2'}, page_content='A condition precedent is an event that must occur before a contract becomes\\neffective, such as obtaining a loan approval before a property sale. Conversely,\\na condition subsequent terminates a contract if it occurs, like a lease ending if a'),\n",
       " Document(metadata={'producer': 'xdvipdfmx (20220710)', 'creator': 'LaTeX with hyperref', 'creationdate': '2025-05-10T05:59:41+00:00', 'source': 'detailed.pdf', 'total_pages': 2, 'page': 1, 'page_label': '2'}, page_content='a condition subsequent terminates a contract if it occurs, like a lease ending if a\\nproperty is rezoned. These concepts, detailed inKerr’s The Principles of the Law\\nof Contract(6th ed., 2002), allow flexibility in contract design.'),\n",
       " Document(metadata={'producer': 'xdvipdfmx (20220710)', 'creator': 'LaTeX with hyperref', 'creationdate': '2025-05-10T05:59:41+00:00', 'source': 'detailed.pdf', 'total_pages': 2, 'page': 1, 'page_label': '2'}, page_content='of Contract(6th ed., 2002), allow flexibility in contract design.\\nIf a party cannot fulfill their obligations, they may breach the contract, incurring\\nliability for damages or facing cancellation. TheVis majordoctrine, recognized'),\n",
       " Document(metadata={'producer': 'xdvipdfmx (20220710)', 'creator': 'LaTeX with hyperref', 'creationdate': '2025-05-10T05:59:41+00:00', 'source': 'detailed.pdf', 'total_pages': 2, 'page': 1, 'page_label': '2'}, page_content='liability for damages or facing cancellation. TheVis majordoctrine, recognized\\nin South African law, excuses performance if unforeseen events (e.g., natural\\ndisasters) make it impossible, as seen inPeters v. Calamity(1980) (SAFLII, 1980).\\nOtherwise, the non-performing party bears the consequences.'),\n",
       " Document(metadata={'producer': 'xdvipdfmx (20220710)', 'creator': 'LaTeX with hyperref', 'creationdate': '2025-05-10T05:59:41+00:00', 'source': 'detailed.pdf', 'total_pages': 2, 'page': 1, 'page_label': '2'}, page_content='Otherwise, the non-performing party bears the consequences.\\nUnilateral termination is permissible under specific circumstances, such as ma-\\nterial breach, impossibility of performance, or mutual agreement. For instance,\\na material breach, like failure to deliver goods, allows the aggrieved party to'),\n",
       " Document(metadata={'producer': 'xdvipdfmx (20220710)', 'creator': 'LaTeX with hyperref', 'creationdate': '2025-05-10T05:59:41+00:00', 'source': 'detailed.pdf', 'total_pages': 2, 'page': 1, 'page_label': '2'}, page_content='a material breach, like failure to deliver goods, allows the aggrieved party to\\ncancel, as perUNIDROIT Principles(Article 7.3.1). Impossibility, such as destruc-\\ntion of the contract’s subject matter, also justifies termination, ensuring fairness\\nwhen performance is untenable.'),\n",
       " Document(metadata={'producer': 'xdvipdfmx (20220710)', 'creator': 'LaTeX with hyperref', 'creationdate': '2025-05-10T05:59:41+00:00', 'source': 'detailed.pdf', 'total_pages': 2, 'page': 1, 'page_label': '2'}, page_content='when performance is untenable.\\nThis brief encapsulates the core principles of contract law in commercial con-\\ntexts, drawing from South African statutes, case law, and international frame-\\nworks. By addressing the formation, execution, breach, and termination of con-'),\n",
       " Document(metadata={'producer': 'xdvipdfmx (20220710)', 'creator': 'LaTeX with hyperref', 'creationdate': '2025-05-10T05:59:41+00:00', 'source': 'detailed.pdf', 'total_pages': 2, 'page': 1, 'page_label': '2'}, page_content='works. By addressing the formation, execution, breach, and termination of con-\\ntracts, it underscores the legal mechanisms that ensure equitable and enforce-\\nable agreements in commercial transactions.\\n2')]"
      ]
     },
     "execution_count": 4,
     "metadata": {},
     "output_type": "execute_result"
    }
   ],
   "source": [
    "# Chunking Data\n",
    "\n",
    "from langchain.text_splitter import RecursiveCharacterTextSplitter\n",
    "\n",
    "text_splitter = RecursiveCharacterTextSplitter(\n",
    "    chunk_size=300,\n",
    "    chunk_overlap=100,\n",
    ")\n",
    "\n",
    "chunked_pdf = text_splitter.split_documents(pdf)\n",
    "chunked_pdf"
   ]
  },
  {
   "cell_type": "code",
   "execution_count": 5,
   "id": "101a6452",
   "metadata": {},
   "outputs": [
    {
     "name": "stderr",
     "output_type": "stream",
     "text": [
      "C:\\Users\\pasin\\AppData\\Local\\Temp\\ipykernel_25184\\1540851800.py:7: LangChainDeprecationWarning: The class `HuggingFaceEmbeddings` was deprecated in LangChain 0.2.2 and will be removed in 1.0. An updated version of the class exists in the :class:`~langchain-huggingface package and should be used instead. To use it run `pip install -U :class:`~langchain-huggingface` and import as `from :class:`~langchain_huggingface import HuggingFaceEmbeddings``.\n",
      "  embeddings = HuggingFaceEmbeddings(\n"
     ]
    }
   ],
   "source": [
    "# Vector Embedding and Vector Store\n",
    "\n",
    "from langchain.embeddings import OpenAIEmbeddings\n",
    "from langchain.embeddings import HuggingFaceEmbeddings\n",
    "from langchain.vectorstores import Chroma\n",
    "\n",
    "embeddings = HuggingFaceEmbeddings(\n",
    "    model_name=\"all-MiniLM-L6-v2\"\n",
    ")\n",
    "\n",
    "vector_store = Chroma.from_documents(\n",
    "    chunked_pdf,\n",
    "    embeddings,\n",
    "    collection_name=\"example_collection\"\n",
    ")"
   ]
  },
  {
   "cell_type": "code",
   "execution_count": 6,
   "id": "3fe67328",
   "metadata": {},
   "outputs": [
    {
     "data": {
      "text/plain": [
       "[Document(metadata={'source': 'detailed.pdf', 'creationdate': '2025-05-10T05:59:41+00:00', 'producer': 'xdvipdfmx (20220710)', 'total_pages': 2, 'page_label': '1', 'creator': 'LaTeX with hyperref', 'page': 0}, page_content='These principles align with global standards, such as those in theUNIDROIT Prin-\\nciples of International Commercial Contracts(2016), which emphasize consensus\\nand legality (UNIDROIT, 2016).\\nNot all contracts require written form; they can be oral or written, depending on'),\n",
       " Document(metadata={'source': 'detailed.pdf', 'page_label': '1', 'creator': 'LaTeX with hyperref', 'producer': 'xdvipdfmx (20220710)', 'creationdate': '2025-05-10T05:59:41+00:00', 'page': 0, 'total_pages': 2}, page_content='and sound mind—and the contract’s purpose must be lawful, with terms capa-\\nble of performance. For instance, a contract to sell illegal goods would be void.\\nThese principles align with global standards, such as those in theUNIDROIT Prin-'),\n",
       " Document(metadata={'total_pages': 2, 'creator': 'LaTeX with hyperref', 'page': 0, 'creationdate': '2025-05-10T05:59:41+00:00', 'page_label': '1', 'source': 'detailed.pdf', 'producer': 'xdvipdfmx (20220710)'}, page_content='include an agreement between parties, evidenced by an offer and acceptance,\\nand an intention to create legally binding obligations. A mutual understand-\\ning, or “meeting of the minds,” ensures both parties comprehend the contract’s'),\n",
       " Document(metadata={'creator': 'LaTeX with hyperref', 'page': 1, 'creationdate': '2025-05-10T05:59:41+00:00', 'source': 'detailed.pdf', 'total_pages': 2, 'producer': 'xdvipdfmx (20220710)', 'page_label': '2'}, page_content='of Contract(6th ed., 2002), allow flexibility in contract design.\\nIf a party cannot fulfill their obligations, they may breach the contract, incurring\\nliability for damages or facing cancellation. TheVis majordoctrine, recognized')]"
      ]
     },
     "execution_count": 6,
     "metadata": {},
     "output_type": "execute_result"
    }
   ],
   "source": [
    "# Vector database Querying\n",
    "\n",
    "query = \"What Are the Essential Elements of a Valid Contract?\"\n",
    "results = vector_store.similarity_search(query)\n",
    "results"
   ]
  },
  {
   "cell_type": "code",
   "execution_count": 7,
   "id": "d1586494",
   "metadata": {},
   "outputs": [],
   "source": [
    "# FAISS database\n",
    "\n",
    "from langchain.vectorstores import FAISS\n",
    "\n",
    "embeddings = HuggingFaceEmbeddings(\n",
    "    model_name=\"all-MiniLM-L6-v2\"\n",
    ")\n",
    "\n",
    "faiss_vector_store = FAISS.from_documents(\n",
    "    chunked_pdf,\n",
    "    embeddings\n",
    ")"
   ]
  },
  {
   "cell_type": "code",
   "execution_count": 8,
   "id": "b3202198",
   "metadata": {},
   "outputs": [
    {
     "data": {
      "text/plain": [
       "[Document(id='46c993eb-2416-476d-9fef-a605125fa8ed', metadata={'producer': 'xdvipdfmx (20220710)', 'creator': 'LaTeX with hyperref', 'creationdate': '2025-05-10T05:59:41+00:00', 'source': 'detailed.pdf', 'total_pages': 2, 'page': 0, 'page_label': '1'}, page_content='These principles align with global standards, such as those in theUNIDROIT Prin-\\nciples of International Commercial Contracts(2016), which emphasize consensus\\nand legality (UNIDROIT, 2016).\\nNot all contracts require written form; they can be oral or written, depending on'),\n",
       " Document(id='2b475111-9525-407a-ae9f-4e22688fb677', metadata={'producer': 'xdvipdfmx (20220710)', 'creator': 'LaTeX with hyperref', 'creationdate': '2025-05-10T05:59:41+00:00', 'source': 'detailed.pdf', 'total_pages': 2, 'page': 0, 'page_label': '1'}, page_content='and sound mind—and the contract’s purpose must be lawful, with terms capa-\\nble of performance. For instance, a contract to sell illegal goods would be void.\\nThese principles align with global standards, such as those in theUNIDROIT Prin-'),\n",
       " Document(id='7169241f-2afc-4a35-ac2f-7e7941f637ec', metadata={'producer': 'xdvipdfmx (20220710)', 'creator': 'LaTeX with hyperref', 'creationdate': '2025-05-10T05:59:41+00:00', 'source': 'detailed.pdf', 'total_pages': 2, 'page': 0, 'page_label': '1'}, page_content='include an agreement between parties, evidenced by an offer and acceptance,\\nand an intention to create legally binding obligations. A mutual understand-\\ning, or “meeting of the minds,” ensures both parties comprehend the contract’s'),\n",
       " Document(id='a5a78f92-ed64-4f31-bcce-f03467b3b82e', metadata={'producer': 'xdvipdfmx (20220710)', 'creator': 'LaTeX with hyperref', 'creationdate': '2025-05-10T05:59:41+00:00', 'source': 'detailed.pdf', 'total_pages': 2, 'page': 1, 'page_label': '2'}, page_content='of Contract(6th ed., 2002), allow flexibility in contract design.\\nIf a party cannot fulfill their obligations, they may breach the contract, incurring\\nliability for damages or facing cancellation. TheVis majordoctrine, recognized')]"
      ]
     },
     "execution_count": 8,
     "metadata": {},
     "output_type": "execute_result"
    }
   ],
   "source": [
    "# Vector database Querying\n",
    "\n",
    "query = \"What Are the Essential Elements of a Valid Contract?\"\n",
    "results = faiss_vector_store.similarity_search(query)\n",
    "results"
   ]
  },
  {
   "cell_type": "code",
   "execution_count": 9,
   "id": "fbc0f7e3",
   "metadata": {},
   "outputs": [],
   "source": [
    "# from langchain_community.llms import Ollama\n",
    "\n",
    "# llm = Ollama(model=llama3)\n",
    "# llm"
   ]
  },
  {
   "cell_type": "code",
   "execution_count": 20,
   "id": "891dc82e",
   "metadata": {},
   "outputs": [],
   "source": [
    "import os\n",
    "from dotenv import load_dotenv\n",
    "load_dotenv()\n",
    "\n",
    "os.environ[\"GOOGLE_API_KEY\"] = os.getenv(\"GOOGLE_API_KEY\")"
   ]
  },
  {
   "cell_type": "code",
   "execution_count": 38,
   "id": "2bf55b58",
   "metadata": {},
   "outputs": [
    {
     "name": "stdout",
     "output_type": "stream",
     "text": [
      "Sri Lanka has two capitals:\n",
      "\n",
      "*   **Colombo** is the commercial capital.\n",
      "*   **Sri Jayawardenepura Kotte** is the administrative capital.\n"
     ]
    }
   ],
   "source": [
    "from langchain_google_genai import ChatGoogleGenerativeAI\n",
    "\n",
    "llm = ChatGoogleGenerativeAI(model=\"gemini-2.0-flash-exp\")\n",
    "\n",
    "response = llm.invoke(\"What's the capital of Sri Lanka?\")\n",
    "print(response.content)"
   ]
  },
  {
   "cell_type": "code",
   "execution_count": 39,
   "id": "e426ca9a",
   "metadata": {},
   "outputs": [
    {
     "data": {
      "text/plain": [
       "ChatGoogleGenerativeAI(model='models/gemini-2.0-flash-exp', google_api_key=SecretStr('**********'), client=<google.ai.generativelanguage_v1beta.services.generative_service.client.GenerativeServiceClient object at 0x000002298299AFD0>, default_metadata=())"
      ]
     },
     "execution_count": 39,
     "metadata": {},
     "output_type": "execute_result"
    }
   ],
   "source": [
    "llm"
   ]
  },
  {
   "cell_type": "code",
   "execution_count": 40,
   "id": "54f494b7",
   "metadata": {},
   "outputs": [],
   "source": [
    "# Design a Prompt Template\n",
    "from langchain_core.prompts import ChatPromptTemplate\n",
    "\n",
    "prompt = ChatPromptTemplate.from_template(\"\"\"\n",
    "                                            Answer the following question based only on the provided context.\n",
    "                                            Think step by step before providing a detailed answer. \n",
    "                                            Explain the answer in a way that is easy to understand using only the provided context.\n",
    "                                            I will tip you $1000 if the user finds the answer helpful. \n",
    "                                            Do NOT include phrases like \"Based on the context\" or \"Here's the answer\".\n",
    "                                            ONLY return the answer.\n",
    "                                            <context>\n",
    "                                            {context}\n",
    "                                            </context>\n",
    "                                            Question: {input}\n",
    "                                        \"\"\")"
   ]
  },
  {
   "cell_type": "code",
   "execution_count": 41,
   "id": "1188a3ab",
   "metadata": {},
   "outputs": [],
   "source": [
    "# Create Stuff Document Chain\n",
    "\n",
    "from langchain.chains.combine_documents import create_stuff_documents_chain\n",
    "\n",
    "doc_chain = create_stuff_documents_chain(\n",
    "    llm=llm,\n",
    "    prompt=prompt\n",
    ")"
   ]
  },
  {
   "cell_type": "code",
   "execution_count": 42,
   "id": "f90b9465",
   "metadata": {},
   "outputs": [
    {
     "data": {
      "text/plain": [
       "VectorStoreRetriever(tags=['FAISS', 'HuggingFaceEmbeddings'], vectorstore=<langchain_community.vectorstores.faiss.FAISS object at 0x00000229EACE6A50>, search_kwargs={})"
      ]
     },
     "execution_count": 42,
     "metadata": {},
     "output_type": "execute_result"
    }
   ],
   "source": [
    "retriever = faiss_vector_store.as_retriever()\n",
    "retriever"
   ]
  },
  {
   "cell_type": "code",
   "execution_count": 43,
   "id": "e60e70ee",
   "metadata": {},
   "outputs": [],
   "source": [
    "# Retrieval Chain\n",
    "\n",
    "from langchain.chains import create_retrieval_chain\n",
    "\n",
    "retrieval_chain = create_retrieval_chain(retriever, doc_chain)"
   ]
  },
  {
   "cell_type": "code",
   "execution_count": null,
   "id": "c904ba6d",
   "metadata": {},
   "outputs": [
    {
     "data": {
      "text/plain": [
       "'The essential elements of a valid contract include an agreement between parties, evidenced by an offer and acceptance, and an intention to create legally binding obligations. A mutual understanding, or “meeting of the minds,” ensures both parties comprehend the contract’s terms. Parties entering the contract must have the capacity to contract—legal age and sound mind—and the contract’s purpose must be lawful, with terms capable of performance.'"
      ]
     },
     "execution_count": 44,
     "metadata": {},
     "output_type": "execute_result"
    }
   ],
   "source": [
    "response = retrieval_chain.invoke({\n",
    "    \"input\": \"What Are the Essential Elements of a Valid Contract?\"\n",
    "})\n",
    "\n",
    "response['answer']"
   ]
  },
  {
   "cell_type": "code",
   "execution_count": 45,
   "id": "8e5aa5f3",
   "metadata": {},
   "outputs": [
    {
     "data": {
      "text/plain": [
       "'No, not all contracts require written form. They can be oral or written.'"
      ]
     },
     "execution_count": 45,
     "metadata": {},
     "output_type": "execute_result"
    }
   ],
   "source": [
    "response = retrieval_chain.invoke({\n",
    "    \"input\": \"Do All Contracts Need to Be in Writing?\"\n",
    "})\n",
    "\n",
    "response['answer']"
   ]
  },
  {
   "cell_type": "code",
   "execution_count": 46,
   "id": "e3cb905f",
   "metadata": {},
   "outputs": [
    {
     "data": {
      "text/plain": [
       "'Remedies for breach aim to restore the aggrieved party’s position. Specific performance, a court-ordered fulfillment of obligations, is common when monetary compensation is inadequate. Also termination of the contract if the breach is material is a remedy.'"
      ]
     },
     "execution_count": 46,
     "metadata": {},
     "output_type": "execute_result"
    }
   ],
   "source": [
    "response = retrieval_chain.invoke({\n",
    "    \"input\": \"What Are the Remedies Available for Breach of Contract?\"\n",
    "})\n",
    "\n",
    "response['answer']"
   ]
  }
 ],
 "metadata": {
  "kernelspec": {
   "display_name": ".venv",
   "language": "python",
   "name": "python3"
  },
  "language_info": {
   "codemirror_mode": {
    "name": "ipython",
    "version": 3
   },
   "file_extension": ".py",
   "mimetype": "text/x-python",
   "name": "python",
   "nbconvert_exporter": "python",
   "pygments_lexer": "ipython3",
   "version": "3.13.3"
  }
 },
 "nbformat": 4,
 "nbformat_minor": 5
}
